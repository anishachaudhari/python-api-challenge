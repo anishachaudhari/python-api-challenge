{
 "cells": [
  {
   "cell_type": "markdown",
   "metadata": {},
   "source": [
    "# WeatherPy\n",
    "----\n",
    "\n"
   ]
  },
  {
   "cell_type": "markdown",
   "metadata": {},
   "source": [
    "3 Observations from the data:\n",
    "1) Data indicates there are strong negative correlation amongst Latitude increases and Maximum Temperature increases in the Northern Hemisphere; whereas there is a strong positive correlation amongst Latutude increases and Maximum Temperatures in the Southern Hemisphere.\n",
    "2) Latitude versus Maximum Temperature plot shows a parabola shaped plot indicating that as we closer to the equatore where the Latitude is zero that is where we will find the higher temperatures; whereas where the latitude is further away from zero there is decrease in maximum temperatures.  This is common knowledge as where the latitude seems to be futherest away from the equator, those regions are known as the North and South poles.\n",
    "3) In the second part of this assignment we were asked to find the \"ideal\" vacation hotspots.  Where the temperature is between 70 and 80 degrees, the wind speed is less than 10 mph, and the cloudiness is rated at a zero.  Out of the random 641 cities my research was based upon, I found only 9 cities to have those factors.  \"Ideal\" weather is not as easy to come by so the data proves.  \n",
    "\n",
    "*I have included analysis on the correlation coefficients from performing linear regressions abover each scatterplot in the sections below. "
   ]
  },
  {
   "cell_type": "code",
   "execution_count": 1,
   "metadata": {
    "scrolled": true
   },
   "outputs": [],
   "source": [
    "# Dependencies and Setup\n",
    "import matplotlib.pyplot as plt\n",
    "import pandas as pd\n",
    "import numpy as np\n",
    "import requests\n",
    "import time\n",
    "from scipy.stats import linregress\n",
    "from scipy import stats\n",
    "from pprint import pprint\n",
    "\n",
    "\n",
    "# Import API key\n",
    "from api_keys import weather_api_key\n",
    "\n",
    "# Incorporated citipy to determine city based on latitude and longitude\n",
    "from citipy import citipy\n",
    "\n",
    "# Output File (CSV)\n",
    "output_data_file = \"output_data/cities.csv\"\n",
    "\n",
    "# Range of latitudes and longitudes\n",
    "lat_range = (-90, 90)\n",
    "lng_range = (-180, 180)"
   ]
  },
  {
   "cell_type": "markdown",
   "metadata": {},
   "source": [
    "## Generate Cities List"
   ]
  },
  {
   "cell_type": "code",
   "execution_count": 2,
   "metadata": {},
   "outputs": [
    {
     "name": "stdout",
     "output_type": "stream",
     "text": [
      "619\n"
     ]
    }
   ],
   "source": [
    "# List for holding lat_lngs and cities\n",
    "lat_lngs = []\n",
    "cities = []\n",
    "\n",
    "# Create a set of random lat and lng combinations\n",
    "lats = np.random.uniform(low=-90.000, high=90.000, size=1500)\n",
    "lngs = np.random.uniform(low=-180.000, high=180.000, size=1500)\n",
    "lat_lngs = zip(lats, lngs)\n",
    "\n",
    "# Identify nearest city for each lat, lng combination\n",
    "for lat_lng in lat_lngs:\n",
    "    city = citipy.nearest_city(lat_lng[0], lat_lng[1]).city_name\n",
    "    \n",
    "    # If the city is unique, then add it to a our cities list\n",
    "    if city not in cities:\n",
    "        cities.append(city)\n",
    "\n",
    "# Print the city count to confirm sufficient count\n",
    "print(len(cities))"
   ]
  },
  {
   "cell_type": "markdown",
   "metadata": {},
   "source": [
    "### Perform API Calls\n",
    "* Perform a weather check on each city using a series of successive API calls.\n",
    "* Include a print log of each city as it'sbeing processed (with the city number and city name).\n"
   ]
  },
  {
   "cell_type": "code",
   "execution_count": 3,
   "metadata": {
    "scrolled": true
   },
   "outputs": [
    {
     "name": "stdout",
     "output_type": "stream",
     "text": [
      "City: jamestown, City ID: 5122534\n",
      "City: ribeira grande, City ID: 3372707\n",
      "City not found...\n",
      "City: kaitangata, City ID: 2208248\n",
      "City: rocha, City ID: 3440777\n",
      "City: mataura, City ID: 6201424\n",
      "City: punta arenas, City ID: 3874787\n",
      "City: port alfred, City ID: 964432\n",
      "City: kurumkan, City ID: 2021188\n",
      "City: bassila, City ID: 2395261\n",
      "City: ostrovnoy, City ID: 556268\n",
      "City: la asuncion, City ID: 3480908\n",
      "City: izhmorskiy, City ID: 1505228\n",
      "City not found...\n",
      "City: bluff, City ID: 2206939\n",
      "City: warrington, City ID: 2634739\n",
      "City: lagoa, City ID: 3372964\n",
      "City not found...\n",
      "City: elat, City ID: 295277\n",
      "City: goderich, City ID: 5962442\n",
      "City: marion, City ID: 4260977\n",
      "City: dikson, City ID: 1507390\n",
      "City: rawson, City ID: 3839307\n",
      "City not found...\n",
      "City: komsomolskiy, City ID: 1513491\n",
      "City: kopervik, City ID: 3149512\n",
      "City: cidreira, City ID: 3466165\n",
      "City not found...\n",
      "City not found...\n",
      "City: yellowknife, City ID: 6185377\n",
      "City: bambous virieux, City ID: 1106677\n",
      "City: alice springs, City ID: 2077895\n",
      "City: rikitea, City ID: 4030556\n",
      "City: cape town, City ID: 3369157\n",
      "City: mount gambier, City ID: 2156643\n",
      "City: clyde river, City ID: 5924351\n",
      "City: kruisfontein, City ID: 986717\n",
      "City: deniliquin, City ID: 2169068\n",
      "City: busselton, City ID: 2075265\n",
      "City: namatanai, City ID: 2090021\n",
      "City: husavik, City ID: 2629833\n",
      "City not found...\n",
      "City: sergeyevka, City ID: 1519385\n",
      "City not found...\n",
      "City: bredasdorp, City ID: 1015776\n",
      "City: sosnovo-ozerskoye, City ID: 2016216\n",
      "City: hithadhoo, City ID: 1282256\n",
      "City: chuy, City ID: 3443061\n",
      "City: airai, City ID: 1651810\n",
      "City: lavrentiya, City ID: 4031637\n",
      "City: brigantine, City ID: 4500920\n",
      "City: kapaa, City ID: 5848280\n",
      "City: mailsi, City ID: 1171502\n",
      "City: the valley, City ID: 3573374\n",
      "City: east london, City ID: 1006984\n",
      "City: hermanus, City ID: 3366880\n",
      "City: anjozorobe, City ID: 1073482\n",
      "City: padang, City ID: 1633419\n",
      "City: lebu, City ID: 3883457\n",
      "City: vila franca do campo, City ID: 3372472\n",
      "City: vanderhoof, City ID: 6173361\n",
      "City: guerrero negro, City ID: 4021858\n",
      "City: nikolskoye, City ID: 546105\n",
      "City: victoria, City ID: 1819729\n",
      "City: hickory, City ID: 4470778\n",
      "City: la paz, City ID: 3911925\n",
      "City: iqaluit, City ID: 5983720\n",
      "City not found...\n",
      "City: ushuaia, City ID: 3833367\n",
      "City: hobart, City ID: 2163355\n",
      "City: mar del plata, City ID: 3430863\n",
      "City: mount isa, City ID: 2065594\n",
      "City: georgetown, City ID: 1735106\n",
      "City: dolores, City ID: 3435038\n",
      "City: san carlos del zulia, City ID: 3628489\n",
      "City: vaini, City ID: 4032243\n",
      "City: san patricio, City ID: 4726521\n",
      "City: poum, City ID: 2138555\n",
      "City: torbay, City ID: 6167817\n",
      "City: mareeba, City ID: 2158767\n",
      "City: upernavik, City ID: 3418910\n",
      "City: port elizabeth, City ID: 964420\n",
      "City: castro, City ID: 3466704\n",
      "City: hualmay, City ID: 3939761\n",
      "City: coquimbo, City ID: 3893629\n",
      "City: sistranda, City ID: 3139597\n",
      "City: hambantota, City ID: 1244926\n",
      "City: port lincoln, City ID: 2063036\n",
      "City: grand gaube, City ID: 934479\n",
      "City: etaples, City ID: 3019441\n",
      "City: nioro, City ID: 2412408\n",
      "City: sur, City ID: 286245\n",
      "City: faanui, City ID: 4034551\n",
      "City: fare, City ID: 4034496\n",
      "City: tarauaca, City ID: 3661980\n",
      "City: butaritari, City ID: 2110227\n",
      "City: orlik, City ID: 1496073\n",
      "City: thompson, City ID: 6165406\n",
      "City: anadyr, City ID: 2127202\n",
      "City: nova olimpia, City ID: 3456137\n",
      "City: arraial do cabo, City ID: 3471451\n",
      "City: finschhafen, City ID: 2097418\n",
      "City: tuktoyaktuk, City ID: 6170031\n",
      "City: avarua, City ID: 4035715\n",
      "City: gweta, City ID: 933734\n",
      "City: aswan, City ID: 359792\n",
      "City: mahebourg, City ID: 934322\n",
      "City: tasiilaq, City ID: 3424607\n",
      "City: thinadhoo, City ID: 1337610\n",
      "City: kingaroy, City ID: 2161376\n",
      "City: cherskiy, City ID: 2126199\n",
      "City: seoul, City ID: 1835848\n",
      "City: carnarvon, City ID: 2074865\n",
      "City: saint-philippe, City ID: 935215\n",
      "City: fossombrone, City ID: 3176630\n",
      "City not found...\n",
      "City: caravelas, City ID: 3466980\n",
      "City: lasa, City ID: 3175096\n",
      "City not found...\n",
      "City: port-cartier, City ID: 6111696\n",
      "City: faya, City ID: 110690\n",
      "City: chokurdakh, City ID: 2126123\n",
      "City: cayce, City ID: 4573888\n",
      "City: provideniya, City ID: 4031574\n",
      "City: new norfolk, City ID: 2155415\n",
      "City: saint-leu, City ID: 6690297\n",
      "City: bowen, City ID: 2174444\n",
      "City not found...\n",
      "City: korla, City ID: 1529376\n",
      "City: cairns, City ID: 2172797\n",
      "City: saskylakh, City ID: 2017155\n",
      "City: albany, City ID: 5106841\n",
      "City: kodiak, City ID: 5866583\n",
      "City: yerbogachen, City ID: 2012956\n",
      "City: malpe, City ID: 1264037\n",
      "City: olkhovka, City ID: 1504317\n",
      "City: nizwa, City ID: 286987\n",
      "City: jalu, City ID: 86049\n",
      "City: aginskoye, City ID: 2028078\n",
      "City: la macarena, City ID: 3827693\n",
      "City not found...\n",
      "City: anloga, City ID: 2304548\n",
      "City: jinchang, City ID: 1805733\n",
      "City: coihaique, City ID: 3894426\n",
      "City: prince george, City ID: 6113365\n",
      "City: fereydun kenar, City ID: 134602\n",
      "City: kultayevo, City ID: 539369\n",
      "City: atuona, City ID: 4020109\n",
      "City: magaria, City ID: 2441482\n",
      "City: visnes, City ID: 3131500\n",
      "City: kurtalan, City ID: 305532\n",
      "City: inhambane, City ID: 1045114\n",
      "City: camacha, City ID: 2270385\n",
      "City: preobrazheniye, City ID: 2017658\n",
      "City: qaanaaq, City ID: 3831208\n",
      "City: along, City ID: 1278969\n",
      "City: kahului, City ID: 5847411\n",
      "City: acapulco, City ID: 3533462\n",
      "City: wamba, City ID: 2319257\n",
      "City: pervomayskoye, City ID: 797213\n",
      "City: guaranda, City ID: 3657571\n",
      "City: new amsterdam, City ID: 3376762\n",
      "City not found...\n",
      "City: ponta do sol, City ID: 2264557\n",
      "City: norman wells, City ID: 6089245\n",
      "City: koumac, City ID: 2140558\n",
      "City: metu, City ID: 330764\n",
      "City: pitsunda, City ID: 615460\n",
      "City: half moon bay, City ID: 5354943\n",
      "City: pochutla, City ID: 3517970\n",
      "City: nantucket, City ID: 4944903\n",
      "City: keene, City ID: 5088262\n",
      "City: qingdao, City ID: 1797929\n",
      "City: bloomingdale, City ID: 4148207\n",
      "City: tomra, City ID: 3134357\n",
      "City: ewa beach, City ID: 5855051\n",
      "City not found...\n",
      "City: ixtapa, City ID: 4004293\n",
      "City not found...\n",
      "City: prince rupert, City ID: 6113406\n",
      "City: kropotkin, City ID: 540761\n",
      "City: gat, City ID: 293842\n",
      "City: touros, City ID: 3386213\n",
      "City: kirkenes, City ID: 779303\n",
      "City: zhangye, City ID: 1785036\n",
      "City: colares, City ID: 2269142\n",
      "City: port hawkesbury, City ID: 6111867\n",
      "City: cabo san lucas, City ID: 3985710\n",
      "City: ilulissat, City ID: 3423146\n",
      "City: narsaq, City ID: 3421719\n",
      "City: ust-nera, City ID: 2120048\n",
      "City: ancud, City ID: 3899695\n",
      "City not found...\n",
      "City: gilbues, City ID: 3398931\n",
      "City: barrow, City ID: 5880054\n",
      "City: kang, City ID: 933692\n",
      "City: hirara, City ID: 1862505\n",
      "City: banamba, City ID: 2460546\n",
      "City: wenling, City ID: 1791464\n",
      "City: havre-saint-pierre, City ID: 5972291\n",
      "City not found...\n",
      "City: kudat, City ID: 1736458\n",
      "City: saint-francois, City ID: 2980080\n",
      "City: qasigiannguit, City ID: 3420768\n",
      "City: puerto del rosario, City ID: 2512186\n",
      "City: chemal, City ID: 1508285\n",
      "City: constitucion, City ID: 3893726\n",
      "City not found...\n",
      "City: marrakesh, City ID: 2542997\n",
      "City: nortelandia, City ID: 3456248\n",
      "City: luderitz, City ID: 3355672\n",
      "City: hilo, City ID: 5855927\n",
      "City: puerto ayora, City ID: 3652764\n",
      "City: souillac, City ID: 933995\n",
      "City: laguna, City ID: 5364271\n",
      "City: marawi, City ID: 1701054\n",
      "City: katsuura, City ID: 2112309\n",
      "City: tuy hoa, City ID: 1563281\n",
      "City: naregal, City ID: 1261810\n",
      "City: srednekolymsk, City ID: 2121025\n",
      "City: tahoua, City ID: 2439376\n",
      "City: palmer, City ID: 4946620\n",
      "City: nankana sahib, City ID: 1169372\n",
      "City: chimbote, City ID: 3698304\n",
      "City: ewo, City ID: 2260009\n",
      "City not found...\n",
      "City: esperance, City ID: 2071860\n",
      "City not found...\n",
      "City: saint anthony, City ID: 5044290\n",
      "City not found...\n",
      "City: casale monferrato, City ID: 3180208\n",
      "City: safaga, City ID: 358620\n",
      "City: monrovia, City ID: 2274895\n",
      "City not found...\n",
      "City not found...\n",
      "City: fort nelson, City ID: 5955902\n",
      "City: san ramon, City ID: 5392593\n",
      "City: tougue, City ID: 2414544\n",
      "City: kandrian, City ID: 2094746\n",
      "City: viedma, City ID: 3832899\n",
      "City: zhigansk, City ID: 2012530\n",
      "City: tupelo, City ID: 4448903\n",
      "City: tabuny, City ID: 1490356\n",
      "City: verkhniy lomov, City ID: 474926\n",
      "City: paita, City ID: 3694112\n",
      "City: bethel, City ID: 5282297\n",
      "City: ouahigouya, City ID: 2357043\n",
      "City: gornopravdinsk, City ID: 1506268\n",
      "City: klaksvik, City ID: 2618795\n",
      "City: raga, City ID: 368246\n",
      "City not found...\n",
      "City: kushima, City ID: 1895695\n",
      "City: waipawa, City ID: 2206874\n",
      "City: high level, City ID: 5975004\n",
      "City: erdaojiang, City ID: 2037494\n",
      "City: makakilo city, City ID: 5850554\n",
      "City: grindavik, City ID: 3416888\n"
     ]
    },
    {
     "name": "stdout",
     "output_type": "stream",
     "text": [
      "City: dharchula, City ID: 1272864\n",
      "City: beira, City ID: 1052373\n",
      "City: labuhan, City ID: 8079926\n",
      "City: graciano sanchez, City ID: 3527413\n",
      "City: colwyn bay, City ID: 2652513\n",
      "City: nicoya, City ID: 3622716\n",
      "City: buchanan, City ID: 2278158\n",
      "City not found...\n",
      "City not found...\n",
      "City: richards bay, City ID: 962367\n",
      "City not found...\n",
      "City: rognan, City ID: 3141548\n",
      "City: dingle, City ID: 1714733\n",
      "City: grand forks, City ID: 5059430\n",
      "City: lumut, City ID: 1735450\n",
      "City: parana, City ID: 3841956\n",
      "City: sorong, City ID: 1626542\n",
      "City: clonakilty, City ID: 2965402\n",
      "City not found...\n",
      "City not found...\n",
      "City: luanda, City ID: 2240449\n",
      "City: lorengau, City ID: 2092164\n",
      "City: geraldton, City ID: 2070998\n",
      "City: manbij, City ID: 167357\n",
      "City: behbahan, City ID: 140951\n",
      "City not found...\n",
      "City: sunndalsora, City ID: 3135377\n",
      "City: port hedland, City ID: 2063042\n",
      "City: palora, City ID: 3653523\n",
      "City not found...\n",
      "City not found...\n",
      "City not found...\n",
      "City: kloulklubed, City ID: 7671223\n",
      "City: peno, City ID: 511592\n",
      "City: kamenka, City ID: 553766\n",
      "City: margate, City ID: 2643044\n",
      "City: mansa, City ID: 1263622\n",
      "City: bintulu, City ID: 1737486\n",
      "City: cururupu, City ID: 3401148\n",
      "City not found...\n",
      "City: safranbolu, City ID: 740430\n",
      "City: careiro da varzea, City ID: 3402920\n",
      "City: palakkodu, City ID: 1260793\n",
      "City: ahipara, City ID: 2194098\n",
      "City: guanica, City ID: 4565090\n",
      "City: mayya, City ID: 2020121\n",
      "City: channel-port aux basques, City ID: 5919815\n",
      "City: praia da vitoria, City ID: 3372760\n",
      "City: sao filipe, City ID: 3374210\n",
      "City: te anau, City ID: 2181625\n",
      "City: tadine, City ID: 2138285\n",
      "City: churapcha, City ID: 2025241\n",
      "City: puerto escondido, City ID: 3520994\n",
      "City: tiksi, City ID: 2015306\n",
      "City not found...\n",
      "City: wladyslawowo, City ID: 3081752\n",
      "City: nishihara, City ID: 1855342\n",
      "City: rohru, City ID: 1258078\n",
      "City: tibiao, City ID: 1682405\n",
      "City: puerto baquerizo moreno, City ID: 3652758\n",
      "City: altamirano, City ID: 3532996\n",
      "City: usinsk, City ID: 863061\n",
      "City: soe, City ID: 1626703\n",
      "City: douentza, City ID: 2458334\n",
      "City: batemans bay, City ID: 2176639\n",
      "City: port hardy, City ID: 6111862\n",
      "City: yumen, City ID: 1528998\n",
      "City: abonnema, City ID: 2324433\n",
      "City: tilichiki, City ID: 2120591\n",
      "City: pevek, City ID: 2122090\n",
      "City not found...\n",
      "City: kralendijk, City ID: 3513563\n",
      "City: leshukonskoye, City ID: 535839\n",
      "City: isangel, City ID: 2136825\n",
      "City: kalabo, City ID: 915471\n",
      "City: trofors, City ID: 3133983\n",
      "City: manado, City ID: 1636544\n",
      "City: arman, City ID: 2127060\n",
      "City: san cristobal, City ID: 3628473\n",
      "City not found...\n",
      "City: devonport, City ID: 2168943\n",
      "City: petropavl, City ID: 1520172\n",
      "City: bengkulu, City ID: 1649150\n",
      "City: los llanos de aridane, City ID: 2514651\n",
      "City: port augusta, City ID: 2063056\n",
      "City: harper, City ID: 2276492\n",
      "City: kirensk, City ID: 2022083\n",
      "City not found...\n",
      "City: fortuna, City ID: 5563839\n",
      "City: kautokeino, City ID: 779330\n",
      "City: khandyga, City ID: 2022773\n",
      "City: puerto madryn, City ID: 3840092\n",
      "City: diego de almagro, City ID: 3892454\n",
      "City: pullman, City ID: 5807540\n",
      "City not found...\n",
      "City: jumla, City ID: 1283285\n",
      "City: payo, City ID: 1638775\n",
      "City: sulina, City ID: 665790\n",
      "City: caucaia, City ID: 3402429\n",
      "City: banda aceh, City ID: 1215502\n",
      "City: tselina, City ID: 481036\n",
      "City: khatanga, City ID: 2022572\n",
      "City: visby, City ID: 2662689\n",
      "City: pacific grove, City ID: 5380437\n",
      "City: muros, City ID: 3115824\n",
      "City: hrodna, City ID: 627904\n",
      "City: itarema, City ID: 3393692\n",
      "City: alofi, City ID: 4036284\n",
      "City: daru, City ID: 2098329\n",
      "City: nanortalik, City ID: 3421765\n",
      "City: sao francisco, City ID: 3449176\n",
      "City: fillmore, City ID: 5026478\n",
      "City: carbonia, City ID: 2525362\n",
      "City: sibu, City ID: 1735902\n",
      "City: kadoma, City ID: 1860871\n",
      "City not found...\n",
      "City: shubarkuduk, City ID: 608271\n",
      "City: osoyoos, City ID: 6094665\n",
      "City: sampit, City ID: 1628884\n",
      "City: samarai, City ID: 2132606\n",
      "City: kuchera, City ID: 1265821\n",
      "City: carora, City ID: 3646487\n",
      "City: riohacha, City ID: 3670745\n",
      "City: genhe, City ID: 2037252\n",
      "City: hasaki, City ID: 2112802\n",
      "City: zyryanka, City ID: 2119283\n",
      "City: singarayakonda, City ID: 1256176\n",
      "City: kolondieba, City ID: 2454934\n",
      "City: bolshaya dzhalga, City ID: 550918\n",
      "City: ust-koksa, City ID: 1488167\n",
      "City: longyearbyen, City ID: 2729907\n",
      "City: ingham, City ID: 4997130\n",
      "City: saint george, City ID: 5546220\n",
      "City: riyadh, City ID: 108410\n",
      "City: shache, City ID: 1280037\n",
      "City: tres lagoas, City ID: 3446098\n",
      "City not found...\n",
      "City: kavieng, City ID: 2094342\n",
      "City not found...\n",
      "City: skjervoy, City ID: 777682\n",
      "City: onguday, City ID: 1496130\n",
      "City: inzhavino, City ID: 556275\n",
      "City: el ocotito, City ID: 3528601\n",
      "City not found...\n",
      "City: lompoc, City ID: 5367788\n",
      "City: tura, City ID: 1254046\n",
      "City: batagay-alyta, City ID: 2027042\n",
      "City: mossendjo, City ID: 2256895\n",
      "City: mackay, City ID: 2159220\n",
      "City: koslan, City ID: 544084\n",
      "City: zinder, City ID: 2437798\n",
      "City: concepcion del oro, City ID: 4013039\n",
      "City not found...\n",
      "City: brae, City ID: 2654970\n",
      "City: montgomery, City ID: 4362716\n",
      "City: hami, City ID: 1529484\n",
      "City: melfi, City ID: 3173615\n",
      "City: armidale, City ID: 2177671\n",
      "City: mpongwe, City ID: 905789\n",
      "City: severo-kurilsk, City ID: 2121385\n",
      "City: namibe, City ID: 3347019\n",
      "City: hays, City ID: 4696788\n",
      "City: jucurutu, City ID: 3397108\n",
      "City: killybegs, City ID: 2963295\n",
      "City: khasan, City ID: 2039557\n",
      "City not found...\n",
      "City: khandbari, City ID: 1283217\n",
      "City: portland, City ID: 5746545\n",
      "City: mapastepec, City ID: 3523590\n",
      "City: avera, City ID: 4231997\n",
      "City: tezu, City ID: 1254709\n",
      "City: pasvalys, City ID: 595997\n",
      "City: maloy, City ID: 3146487\n",
      "City: maldonado, City ID: 3441890\n",
      "City: hovd, City ID: 1516048\n",
      "City: martapura, City ID: 1636022\n",
      "City: poronaysk, City ID: 2121909\n",
      "City: taldan, City ID: 2015646\n",
      "City: doha, City ID: 290030\n",
      "City: diapaga, City ID: 2361373\n",
      "City: cascais, City ID: 2269594\n",
      "City: collierville, City ID: 4614748\n",
      "City not found...\n",
      "City: skopelos, City ID: 253581\n",
      "City: bloemhof, City ID: 1018673\n",
      "City: ucluelet, City ID: 6171633\n",
      "City: chernogorsk, City ID: 1508054\n",
      "City: kichera, City ID: 2022129\n",
      "City: kavaratti, City ID: 1267390\n",
      "City: barrhead, City ID: 2656258\n",
      "City: shingu, City ID: 1847947\n",
      "City: sibolga, City ID: 1213855\n",
      "City: yulara, City ID: 6355222\n",
      "City not found...\n",
      "City: long beach, City ID: 5367929\n",
      "City: tabory, City ID: 1490364\n",
      "City: twentynine palms, City ID: 5404198\n",
      "City not found...\n",
      "City: ronfe, City ID: 2735012\n",
      "City: pangkalanbuun, City ID: 1632694\n",
      "City: hammerfest, City ID: 779683\n",
      "City not found...\n",
      "City: merauke, City ID: 2082539\n",
      "City: petrozavodsk, City ID: 509820\n",
      "City: bow island, City ID: 5906757\n",
      "City: kidal, City ID: 2455290\n",
      "City: beloha, City ID: 1067565\n",
      "City: hatta, City ID: 1270185\n",
      "City: nelson bay, City ID: 2155562\n",
      "City: muchkapskiy, City ID: 524627\n",
      "City: rongcheng, City ID: 1797117\n",
      "City: tahe, City ID: 2034615\n",
      "City: matamoros, City ID: 3996426\n",
      "City: maceio, City ID: 3395981\n",
      "City: de pere, City ID: 5250201\n",
      "City: morant bay, City ID: 3489440\n",
      "City: ginir, City ID: 336454\n",
      "City: najran, City ID: 103630\n",
      "City: mehamn, City ID: 778707\n",
      "City: jalingo, City ID: 2336589\n",
      "City: vestmanna, City ID: 2610343\n",
      "City: mayumba, City ID: 2399001\n",
      "City: manzanillo, City ID: 3547867\n",
      "City: vostok, City ID: 2013279\n",
      "City: iracoubo, City ID: 3381428\n",
      "City: bran, City ID: 683890\n",
      "City: acajutla, City ID: 3587498\n",
      "City: magadi, City ID: 1264514\n",
      "City: changji, City ID: 1529569\n",
      "City: amahai, City ID: 1651591\n",
      "City: majene, City ID: 1636806\n",
      "City: petropavlovsk-kamchatskiy, City ID: 2122104\n",
      "City: sao jose da coroa grande, City ID: 3388456\n",
      "City: leningradskiy, City ID: 2123814\n",
      "City: sitka, City ID: 5557293\n",
      "City: lubu, City ID: 1802177\n",
      "City: oktyabrskiy, City ID: 515879\n",
      "City: vila velha, City ID: 3445026\n",
      "City not found...\n",
      "City: tautira, City ID: 4033557\n",
      "City: navahrudak, City ID: 624785\n",
      "City: balykshi, City ID: 610445\n",
      "City: grajau, City ID: 3398856\n",
      "City not found...\n",
      "City: pangnirtung, City ID: 6096551\n",
      "City: weihe, City ID: 7372400\n",
      "City: beringovskiy, City ID: 2126710\n",
      "City: ugoofaaru, City ID: 1337619\n",
      "City: lashio, City ID: 1314759\n",
      "City: saldanha, City ID: 3361934\n",
      "City: owando, City ID: 2255542\n",
      "City: casper, City ID: 5820705\n",
      "City: kedrovyy, City ID: 1538641\n",
      "City: sarai alamgir, City ID: 1166073\n",
      "City: svetlogorsk, City ID: 10722858\n",
      "City: shima, City ID: 1795166\n",
      "City: ipixuna, City ID: 3408424\n",
      "City: dicabisagan, City ID: 1715015\n",
      "City: lonar, City ID: 1264794\n",
      "City: loknya, City ID: 534423\n"
     ]
    },
    {
     "name": "stdout",
     "output_type": "stream",
     "text": [
      "City: la ronge, City ID: 6050066\n",
      "City: vestmannaeyjar, City ID: 3412093\n",
      "City: skelleftea, City ID: 602913\n",
      "City: mumford, City ID: 2297810\n",
      "City: lamar, City ID: 4705086\n",
      "City: pentecoste, City ID: 3392345\n",
      "City: muroto, City ID: 1856392\n",
      "City: taoudenni, City ID: 2450173\n",
      "City: pinega, City ID: 509483\n",
      "City: santona, City ID: 3109527\n",
      "City: kampot, City ID: 1831112\n",
      "City: camiri, City ID: 3922414\n",
      "City: berlevag, City ID: 780687\n",
      "City not found...\n",
      "City not found...\n",
      "City not found...\n",
      "City: bathsheba, City ID: 3374083\n",
      "City: ayotzintepec, City ID: 3532510\n",
      "City: san quintin, City ID: 3984997\n",
      "City: erenhot, City ID: 2037485\n",
      "City: aguimes, City ID: 2522325\n",
      "City: saint-augustin, City ID: 6137462\n",
      "City: tabligbo, City ID: 2364041\n",
      "City not found...\n",
      "City: toucheng, City ID: 1674199\n",
      "City: prachuap khiri khan, City ID: 1151073\n",
      "City: puerto el triunfo, City ID: 3584003\n",
      "City: auki, City ID: 2109701\n",
      "City: oshawa, City ID: 6094578\n",
      "City: karasjok, City ID: 779350\n",
      "City: abriaqui, City ID: 3690582\n",
      "City: sobradinho, City ID: 3447473\n",
      "City: alford, City ID: 2657509\n",
      "City: vao, City ID: 2137773\n",
      "City: huancabamba, City ID: 3696466\n",
      "City not found...\n",
      "City: iranshahr, City ID: 1160939\n",
      "City: fecamp, City ID: 3018794\n",
      "City: neiafu, City ID: 4032420\n",
      "City: el dorado, City ID: 5345659\n",
      "City: aberdeen, City ID: 2657832\n",
      "City: misratah, City ID: 2214846\n",
      "City: noumea, City ID: 2139521\n",
      "City: copiapo, City ID: 3893656\n",
      "City: birjand, City ID: 140463\n",
      "City: san antero, City ID: 3670199\n",
      "City: nizhniy kuranakh, City ID: 2019135\n",
      "City: yarada, City ID: 1252783\n",
      "City: vega de alatorre, City ID: 3514843\n",
      "City: tomohon, City ID: 1623446\n",
      "City: xining, City ID: 1788852\n",
      "City: plouzane, City ID: 2986626\n",
      "City: aksarka, City ID: 1512019\n",
      "City: las palmas, City ID: 2515271\n",
      "City: abalak, City ID: 1512223\n",
      "City: nisia floresta, City ID: 3393922\n",
      "City: filadelfia, City ID: 4560349\n",
      "City not found...\n",
      "City not found...\n",
      "City: salinopolis, City ID: 3389822\n",
      "City: xianyang, City ID: 1790353\n",
      "City: punta alta, City ID: 3839982\n",
      "City: tongliao, City ID: 2034400\n",
      "City: kariba, City ID: 889215\n",
      "City: nara, City ID: 1855612\n",
      "City: saint-georges, City ID: 3579925\n",
      "City: pontivy, City ID: 2986159\n",
      "City: shimoda, City ID: 1852357\n",
      "City: poddorye, City ID: 508441\n",
      "City: akonolinga, City ID: 2235776\n",
      "City: necochea, City ID: 3430443\n",
      "City: enid, City ID: 4535961\n",
      "City: karpogory, City ID: 552256\n",
      "City: yuli, City ID: 2317982\n",
      "City: codrington, City ID: 2171099\n",
      "City: luena, City ID: 3347719\n",
      "City: lamu, City ID: 189741\n",
      "City: talnakh, City ID: 1490256\n",
      "City: pattoki, City ID: 1168226\n",
      "City: freeport, City ID: 5117949\n",
      "City: raton, City ID: 5486795\n",
      "City: cape canaveral, City ID: 4149959\n",
      "City: yanam, City ID: 1252795\n",
      "City: pisco, City ID: 3932145\n",
      "City: naze, City ID: 1855540\n",
      "City: kjollefjord, City ID: 779261\n",
      "City: altamont, City ID: 5711149\n",
      "City not found...\n",
      "City: kapit, City ID: 1737185\n",
      "City not found...\n",
      "City: baryatino, City ID: 578947\n",
      "City: okhotsk, City ID: 2122605\n",
      "City: jacareacanga, City ID: 3397763\n",
      "City: chenzhou, City ID: 1815059\n",
      "City: sindou, City ID: 2355548\n",
      "City: lesosibirsk, City ID: 1500607\n",
      "City: alta floresta, City ID: 6316343\n",
      "City: outram, City ID: 1880252\n",
      "City: tabas, City ID: 113659\n",
      "City: dalbandin, City ID: 1180729\n",
      "City: unguia, City ID: 3666475\n",
      "City: sosnovskoye, City ID: 827329\n"
     ]
    }
   ],
   "source": [
    "# url  and unit variables\n",
    "\n",
    "url = \"http://api.openweathermap.org/data/2.5/weather?\"\n",
    "units = \"imperial\"\n",
    "query_url = f\"{url}appid={weather_api_key}&units={units}&q=\"\n",
    "\n",
    "# empyt lists\n",
    "\n",
    "city_name = []\n",
    "city_id = []\n",
    "cloudiness = []\n",
    "country = []\n",
    "date = []\n",
    "humidity = []\n",
    "lats = []\n",
    "lngs = []\n",
    "temp = []\n",
    "windspeed = []\n",
    "\n",
    "# loop through cities and perform request for data\n",
    "cities = cities #delete this line after done debugging\n",
    "i = 1\n",
    "for city in cities:\n",
    "    city = city\n",
    "    \n",
    "    response = requests.get(query_url + city).json()\n",
    "   \n",
    "    \n",
    "    try:\n",
    "        \n",
    "        city_name.append(response[\"name\"])\n",
    "        city_id.append(response[\"id\"])\n",
    "        cloudiness.append(response[\"clouds\"][\"all\"])\n",
    "        country.append(response[\"sys\"][\"country\"])\n",
    "        date.append(response[\"dt\"])\n",
    "        humidity.append(response[\"main\"][\"humidity\"])\n",
    "        lats.append(response[\"coord\"][\"lat\"])\n",
    "        lngs.append(response[\"coord\"][\"lon\"])\n",
    "        temp.append(response[\"main\"][\"temp_max\"])\n",
    "        windspeed.append(response[\"wind\"][\"speed\"]) \n",
    "        i+=1\n",
    "        #print(f\"City: {city}, City ID: {response[\"id\"]}\")\n",
    "        #print(response[\"id\"])\n",
    "        id = response[\"id\"]\n",
    "        print(f\"City: {city}, City ID: {id}\")\n",
    "    \n",
    "        \n",
    "    except (KeyError):\n",
    "        print(\"City not found...\")\n"
   ]
  },
  {
   "cell_type": "markdown",
   "metadata": {},
   "source": [
    "### Convert Raw Data to DataFrame\n",
    "* Export the city data into a .csv.\n",
    "* Display the DataFrame"
   ]
  },
  {
   "cell_type": "code",
   "execution_count": 4,
   "metadata": {},
   "outputs": [
    {
     "data": {
      "text/html": [
       "<div>\n",
       "<style scoped>\n",
       "    .dataframe tbody tr th:only-of-type {\n",
       "        vertical-align: middle;\n",
       "    }\n",
       "\n",
       "    .dataframe tbody tr th {\n",
       "        vertical-align: top;\n",
       "    }\n",
       "\n",
       "    .dataframe thead th {\n",
       "        text-align: right;\n",
       "    }\n",
       "</style>\n",
       "<table border=\"1\" class=\"dataframe\">\n",
       "  <thead>\n",
       "    <tr style=\"text-align: right;\">\n",
       "      <th></th>\n",
       "      <th>City</th>\n",
       "      <th>City ID</th>\n",
       "      <th>Cloudiness</th>\n",
       "      <th>Country</th>\n",
       "      <th>Date</th>\n",
       "      <th>Humidity</th>\n",
       "      <th>Lat</th>\n",
       "      <th>Lng</th>\n",
       "      <th>Max Temp</th>\n",
       "      <th>Wind Speed</th>\n",
       "    </tr>\n",
       "  </thead>\n",
       "  <tbody>\n",
       "    <tr>\n",
       "      <th>0</th>\n",
       "      <td>Jamestown</td>\n",
       "      <td>5122534</td>\n",
       "      <td>0</td>\n",
       "      <td>US</td>\n",
       "      <td>1659498466</td>\n",
       "      <td>71</td>\n",
       "      <td>42.0970</td>\n",
       "      <td>-79.2353</td>\n",
       "      <td>64.04</td>\n",
       "      <td>1.99</td>\n",
       "    </tr>\n",
       "    <tr>\n",
       "      <th>1</th>\n",
       "      <td>Ribeira Grande</td>\n",
       "      <td>3372707</td>\n",
       "      <td>85</td>\n",
       "      <td>PT</td>\n",
       "      <td>1659498689</td>\n",
       "      <td>87</td>\n",
       "      <td>38.5167</td>\n",
       "      <td>-28.7000</td>\n",
       "      <td>74.80</td>\n",
       "      <td>14.88</td>\n",
       "    </tr>\n",
       "    <tr>\n",
       "      <th>2</th>\n",
       "      <td>Kaitangata</td>\n",
       "      <td>2208248</td>\n",
       "      <td>28</td>\n",
       "      <td>NZ</td>\n",
       "      <td>1659498689</td>\n",
       "      <td>71</td>\n",
       "      <td>-46.2817</td>\n",
       "      <td>169.8464</td>\n",
       "      <td>50.77</td>\n",
       "      <td>12.10</td>\n",
       "    </tr>\n",
       "    <tr>\n",
       "      <th>3</th>\n",
       "      <td>Rocha</td>\n",
       "      <td>3440777</td>\n",
       "      <td>85</td>\n",
       "      <td>UY</td>\n",
       "      <td>1659498181</td>\n",
       "      <td>93</td>\n",
       "      <td>-34.4833</td>\n",
       "      <td>-54.3333</td>\n",
       "      <td>54.03</td>\n",
       "      <td>3.31</td>\n",
       "    </tr>\n",
       "    <tr>\n",
       "      <th>4</th>\n",
       "      <td>Mataura</td>\n",
       "      <td>6201424</td>\n",
       "      <td>68</td>\n",
       "      <td>NZ</td>\n",
       "      <td>1659498690</td>\n",
       "      <td>80</td>\n",
       "      <td>-46.1927</td>\n",
       "      <td>168.8643</td>\n",
       "      <td>44.47</td>\n",
       "      <td>7.38</td>\n",
       "    </tr>\n",
       "  </tbody>\n",
       "</table>\n",
       "</div>"
      ],
      "text/plain": [
       "             City  City ID  Cloudiness Country        Date  Humidity      Lat  \\\n",
       "0       Jamestown  5122534           0      US  1659498466        71  42.0970   \n",
       "1  Ribeira Grande  3372707          85      PT  1659498689        87  38.5167   \n",
       "2      Kaitangata  2208248          28      NZ  1659498689        71 -46.2817   \n",
       "3           Rocha  3440777          85      UY  1659498181        93 -34.4833   \n",
       "4         Mataura  6201424          68      NZ  1659498690        80 -46.1927   \n",
       "\n",
       "        Lng  Max Temp  Wind Speed  \n",
       "0  -79.2353     64.04        1.99  \n",
       "1  -28.7000     74.80       14.88  \n",
       "2  169.8464     50.77       12.10  \n",
       "3  -54.3333     54.03        3.31  \n",
       "4  168.8643     44.47        7.38  "
      ]
     },
     "execution_count": 4,
     "metadata": {},
     "output_type": "execute_result"
    }
   ],
   "source": [
    "# Create dataframe of data\n",
    "\n",
    "weather_df = pd.DataFrame({\"City\": city_name,\n",
    "                           \"City ID\": city_id,\n",
    "                           \"Cloudiness\": cloudiness,\n",
    "                           \"Country\": country,\n",
    "                           \"Date\": date, \n",
    "                           \"Humidity\": humidity, \n",
    "                           \"Lat\": lats, \n",
    "                           \"Lng\": lngs, \n",
    "                           \"Max Temp\": temp, \n",
    "                           \"Wind Speed\": windspeed})\n",
    "\n",
    "# Export data into .csv\n",
    "\n",
    "weather_df.to_csv(\"/Users/anishachaudhari/data_science/Challenges/API challenge/python-api-challenge/output_files.csv\")\n",
    "\n",
    "# Display dataframe\n",
    "weather_df.head(5)\n",
    "\n"
   ]
  },
  {
   "cell_type": "markdown",
   "metadata": {},
   "source": [
    "## Inspect the data and remove the cities where the humidity > 100%.\n",
    "----\n",
    "Skip this step if there are no cities that have humidity > 100%. "
   ]
  },
  {
   "cell_type": "code",
   "execution_count": 5,
   "metadata": {},
   "outputs": [],
   "source": [
    "weather_df[\"Humidity_100\"] = weather_df[\"Humidity\"].apply(lambda x : 1 if x > 100 else 0)\n"
   ]
  },
  {
   "cell_type": "code",
   "execution_count": 6,
   "metadata": {},
   "outputs": [
    {
     "name": "stdout",
     "output_type": "stream",
     "text": [
      "(0, 11)\n"
     ]
    },
    {
     "data": {
      "text/html": [
       "<div>\n",
       "<style scoped>\n",
       "    .dataframe tbody tr th:only-of-type {\n",
       "        vertical-align: middle;\n",
       "    }\n",
       "\n",
       "    .dataframe tbody tr th {\n",
       "        vertical-align: top;\n",
       "    }\n",
       "\n",
       "    .dataframe thead th {\n",
       "        text-align: right;\n",
       "    }\n",
       "</style>\n",
       "<table border=\"1\" class=\"dataframe\">\n",
       "  <thead>\n",
       "    <tr style=\"text-align: right;\">\n",
       "      <th></th>\n",
       "      <th>City</th>\n",
       "      <th>City ID</th>\n",
       "      <th>Cloudiness</th>\n",
       "      <th>Country</th>\n",
       "      <th>Date</th>\n",
       "      <th>Humidity</th>\n",
       "      <th>Lat</th>\n",
       "      <th>Lng</th>\n",
       "      <th>Max Temp</th>\n",
       "      <th>Wind Speed</th>\n",
       "      <th>Humidity_100</th>\n",
       "    </tr>\n",
       "  </thead>\n",
       "  <tbody>\n",
       "  </tbody>\n",
       "</table>\n",
       "</div>"
      ],
      "text/plain": [
       "Empty DataFrame\n",
       "Columns: [City, City ID, Cloudiness, Country, Date, Humidity, Lat, Lng, Max Temp, Wind Speed, Humidity_100]\n",
       "Index: []"
      ]
     },
     "execution_count": 6,
     "metadata": {},
     "output_type": "execute_result"
    }
   ],
   "source": [
    "# iterate through results for each city in cities if humidity > 100%\n",
    "\n",
    "filter_criteria = weather_df[\"Humidity_100\"] > 100\n",
    "fc_df = weather_df[filter_criteria]\n",
    "\n",
    "print(fc_df.shape)\n",
    "fc_df"
   ]
  },
  {
   "cell_type": "code",
   "execution_count": 7,
   "metadata": {},
   "outputs": [],
   "source": [
    "#  Get the indices of cities that have humidity over 100%.\n",
    "#  No cities with humidty over 100%\n",
    "# Make a new DataFrame equal to the city data to drop all humidity outliers by index.\n",
    "# Passing \"inplace=False\" will make a copy of the city_data DataFrame, which we call \"clean_city_data\".\n",
    "\n",
    "weather_humid_df = weather_df[weather_df[\"Humidity_100\"] ==0]\n"
   ]
  },
  {
   "cell_type": "markdown",
   "metadata": {},
   "source": [
    "## Plotting the Data\n",
    "* Use proper labeling of the plots using plot titles (including date of analysis) and axes labels.\n",
    "* Save the plotted figures as .pngs."
   ]
  },
  {
   "cell_type": "markdown",
   "metadata": {},
   "source": [
    "## Latitude vs. Temperature Plot"
   ]
  },
  {
   "cell_type": "code",
   "execution_count": 8,
   "metadata": {
    "scrolled": true
   },
   "outputs": [
    {
     "data": {
      "image/png": "[encoded data removed]",
      "text/plain": [
       "<Figure size 432x288 with 1 Axes>"
      ]
     },
     "metadata": {
      "needs_background": "light"
     },
     "output_type": "display_data"
    },
    {
     "data": {
      "text/plain": [
       "<Figure size 432x288 with 0 Axes>"
      ]
     },
     "metadata": {},
     "output_type": "display_data"
    }
   ],
   "source": [
    "# Create a Scatter Plot for latitude vs temp\n",
    "\n",
    "x_values = weather_df[\"Lat\"]\n",
    "y_values = weather_df[\"Max Temp\"]\n",
    "plt.scatter(x_values,y_values)\n",
    "plt.xlabel(\"Latitude\")\n",
    "plt.ylabel(\"Temperature\")\n",
    "plt.title(\"Latitude vs. Maximum Temperature\")\n",
    "plt.grid(linestyle='-', linewidth = 2)\n",
    "plt.show()\n",
    "\n",
    "plt.savefig(\"/Users/anishachaudhari/data_science/Challenges/API challenge/python-api-challenge/output_files/lat_temp.png\")\n"
   ]
  },
  {
   "cell_type": "markdown",
   "metadata": {},
   "source": [
    "## Latitude vs. Humidity Plot"
   ]
  },
  {
   "cell_type": "code",
   "execution_count": 9,
   "metadata": {},
   "outputs": [
    {
     "data": {
      "image/png": "[encoded data removed]",
      "text/plain": [
       "<Figure size 432x288 with 1 Axes>"
      ]
     },
     "metadata": {
      "needs_background": "light"
     },
     "output_type": "display_data"
    },
    {
     "data": {
      "text/plain": [
       "<Figure size 432x288 with 0 Axes>"
      ]
     },
     "metadata": {},
     "output_type": "display_data"
    }
   ],
   "source": [
    "# Create a Scatter Plot for temperature vs latitude\n",
    "\n",
    "x_values = weather_df['Lat']\n",
    "y_values = weather_df['Humidity']\n",
    "plt.scatter(x_values,y_values)\n",
    "plt.xlabel('Latitude')\n",
    "plt.ylabel('Humidity')\n",
    "plt.title(\"Latitude vs. Humidity\")\n",
    "plt.grid(linestyle='-', linewidth = 2)\n",
    "plt.show()\n",
    "plt.savefig(\"/Users/anishachaudhari/data_science/Challenges/API challenge/python-api-challenge/output_files/lat_humidity.png\")"
   ]
  },
  {
   "cell_type": "markdown",
   "metadata": {},
   "source": [
    "## Latitude vs. Cloudiness Plot"
   ]
  },
  {
   "cell_type": "code",
   "execution_count": 10,
   "metadata": {},
   "outputs": [
    {
     "data": {
      "image/png": "[encoded data removed]",
      "text/plain": [
       "<Figure size 432x288 with 1 Axes>"
      ]
     },
     "metadata": {
      "needs_background": "light"
     },
     "output_type": "display_data"
    },
    {
     "data": {
      "text/plain": [
       "<Figure size 432x288 with 0 Axes>"
      ]
     },
     "metadata": {},
     "output_type": "display_data"
    }
   ],
   "source": [
    "# Create a Scatter Plot for temperature vs cloudiness\n",
    "\n",
    "x_values = weather_df['Lat']\n",
    "y_values = weather_df['Cloudiness']\n",
    "plt.scatter(x_values,y_values)\n",
    "plt.xlabel('Latitude')\n",
    "plt.ylabel('Cloudiness')\n",
    "plt.title(\"Latitude vs. Cloudiness\")\n",
    "plt.grid(linestyle='-', linewidth = 2)\n",
    "plt.show()\n",
    "plt.savefig(\"/Users/anishachaudhari/data_science/Challenges/API challenge/python-api-challenge/output_files/lat_cloudiness.png\")"
   ]
  },
  {
   "cell_type": "markdown",
   "metadata": {},
   "source": [
    "## Latitude vs. Wind Speed Plot"
   ]
  },
  {
   "cell_type": "code",
   "execution_count": 11,
   "metadata": {},
   "outputs": [
    {
     "data": {
      "image/png": "[encoded data removed]",
      "text/plain": [
       "<Figure size 432x288 with 1 Axes>"
      ]
     },
     "metadata": {
      "needs_background": "light"
     },
     "output_type": "display_data"
    },
    {
     "data": {
      "text/plain": [
       "<Figure size 432x288 with 0 Axes>"
      ]
     },
     "metadata": {},
     "output_type": "display_data"
    }
   ],
   "source": [
    "# Create a Scatter Plot for temperature vs windspeed\n",
    "\n",
    "x_values = weather_df['Lat']\n",
    "y_values = weather_df['Wind Speed']\n",
    "plt.scatter(x_values,y_values)\n",
    "plt.xlabel('Latitude')\n",
    "plt.ylabel('Wind Speed')\n",
    "plt.title(\"Latitude vs. Wind Speed ({datestr})\")\n",
    "plt.grid(linestyle='-', linewidth = 2)\n",
    "plt.show()\n",
    "plt.savefig(\"/Users/anishachaudhari/data_science/Challenges/API challenge/python-api-challenge/output_files/lat_windspeed.png\")"
   ]
  },
  {
   "cell_type": "markdown",
   "metadata": {},
   "source": [
    "## Linear Regression"
   ]
  },
  {
   "cell_type": "code",
   "execution_count": 12,
   "metadata": {},
   "outputs": [],
   "source": [
    "# Create hemispheres\n",
    "\n",
    "northern_df = weather_df.loc[weather_df[\"Lat\"]>=0]\n",
    "southern_df = weather_df.loc[weather_df[\"Lat\"]<0]"
   ]
  },
  {
   "cell_type": "markdown",
   "metadata": {},
   "source": [
    "####  Northern Hemisphere - Max Temp vs. Latitude Linear Regression"
   ]
  },
  {
   "cell_type": "markdown",
   "metadata": {},
   "source": [
    "According to Pearson's correlation coefficient guidelines we can gather that in the northern hwmisphere as we move closer to the north pole maximum we should except to see lower max temperatures. the rvalue is -.79 which is close to \n",
    "-1 and therefore the negative correlation is strong."
   ]
  },
  {
   "cell_type": "code",
   "execution_count": 13,
   "metadata": {},
   "outputs": [
    {
     "name": "stdout",
     "output_type": "stream",
     "text": [
      "y = -0.42x +88.01\n",
      "The r-value is: -0.640728442104479\n"
     ]
    },
    {
     "data": {
      "image/png": "[encoded data removed]",
      "text/plain": [
       "<Figure size 432x288 with 1 Axes>"
      ]
     },
     "metadata": {
      "needs_background": "light"
     },
     "output_type": "display_data"
    },
    {
     "data": {
      "text/plain": [
       "<Figure size 432x288 with 0 Axes>"
      ]
     },
     "metadata": {},
     "output_type": "display_data"
    }
   ],
   "source": [
    "# Perform a linear regression on temperature vs. latitude\n",
    "x_values = northern_df[\"Lat\"]\n",
    "y_values = northern_df[\"Max Temp\"]\n",
    "(slope, intercept, rvalue, pvalue, stderr) = stats.linregress(x_values, y_values)\n",
    "\n",
    "\n",
    "# Get regression values\n",
    "regress_values = x_values * slope + intercept\n",
    "#print(regress_values)\n",
    "\n",
    "# Create line equation string\n",
    "line_eq = \"y = \" + str(round(slope,2)) + \"x +\" + str(round(intercept,2))\n",
    "print(line_eq)\n",
    "\n",
    "# Create Plot\n",
    "plt.scatter(x_values,y_values)\n",
    "plt.plot(x_values,regress_values,\"r-\")\n",
    "\n",
    "# Label plot and annotate the line equation\n",
    "plt.xlabel('Latitude')\n",
    "plt.ylabel('Maximum Temperature')\n",
    "plt.annotate(line_eq,(20,15),fontsize=15,color=\"red\")\n",
    "plt.grid(linestyle='-', linewidth = 2)\n",
    "\n",
    "# Print r value\n",
    "print(f\"The r-value is: {rvalue}\")\n",
    "\n",
    "# Show plot\n",
    "plt.show()\n",
    "plt.savefig(\"/Users/anishachaudhari/data_science/Challenges/API challenge/python-api-challenge/output_files/maxtemp_lat_north.png\")"
   ]
  },
  {
   "cell_type": "markdown",
   "metadata": {},
   "source": [
    "####  Southern Hemisphere - Max Temp vs. Latitude Linear Regression"
   ]
  },
  {
   "cell_type": "markdown",
   "metadata": {},
   "source": [
    "In the southern hemisphere the data analysis shows a Pearson correlation coefficient of 0.87, indicating a \n",
    "strong positive reletionship between increases in latitude and maximum temperatures. \n"
   ]
  },
  {
   "cell_type": "code",
   "execution_count": 14,
   "metadata": {},
   "outputs": [
    {
     "name": "stdout",
     "output_type": "stream",
     "text": [
      "y = 0.67x +80.24\n",
      "The r-value is: 0.7151992707122604\n"
     ]
    },
    {
     "data": {
      "image/png": "[encoded data removed]",
      "text/plain": [
       "<Figure size 432x288 with 1 Axes>"
      ]
     },
     "metadata": {
      "needs_background": "light"
     },
     "output_type": "display_data"
    },
    {
     "data": {
      "text/plain": [
       "<Figure size 432x288 with 0 Axes>"
      ]
     },
     "metadata": {},
     "output_type": "display_data"
    }
   ],
   "source": [
    "# Perform a linear regression on temperature vs. latitude\n",
    "x_values = southern_df[\"Lat\"]\n",
    "y_values = southern_df[\"Max Temp\"]\n",
    "(slope, intercept, rvalue, pvalue, stderr) = stats.linregress(x_values, y_values)\n",
    "\n",
    "\n",
    "# Get regression values\n",
    "regress_values = x_values * slope + intercept\n",
    "#print(regress_values)\n",
    "\n",
    "# Create line equation string\n",
    "line_eq = \"y = \" + str(round(slope,2)) + \"x +\" + str(round(intercept,2))\n",
    "print(line_eq)\n",
    "\n",
    "# Create Plot\n",
    "plt.scatter(x_values,y_values)\n",
    "plt.plot(x_values,regress_values,\"r-\")\n",
    "\n",
    "# Label plot and annotate the line equation\n",
    "plt.xlabel('Latitude')\n",
    "plt.ylabel('Maximum Temperature')\n",
    "plt.annotate(line_eq,(20,15),fontsize=15,color=\"red\")\n",
    "plt.grid(linestyle='-', linewidth = 2)\n",
    "\n",
    "# Print r value\n",
    "print(f\"The r-value is: {rvalue}\")\n",
    "\n",
    "# Show plot\n",
    "plt.show()\n",
    "plt.savefig(\"/Users/anishachaudhari/data_science/Challenges/API challenge/python-api-challenge/output_files/maxtemp_lat_south\")"
   ]
  },
  {
   "cell_type": "markdown",
   "metadata": {},
   "source": [
    "####  Northern Hemisphere - Humidity (%) vs. Latitude Linear Regression"
   ]
  },
  {
   "cell_type": "markdown",
   "metadata": {},
   "source": [
    "When analyzing humidity levels and latitude using data from the northern hemisphere we obtain an r-value of 0.095,\n",
    "which is close to zero and therefore indicating there is a weak positive correlation between those variables. \n",
    "As we increase our latitude in the northern hemisphere the data shows it does not effect humidity levels."
   ]
  },
  {
   "cell_type": "code",
   "execution_count": 15,
   "metadata": {},
   "outputs": [
    {
     "name": "stdout",
     "output_type": "stream",
     "text": [
      "y = -0.03x +74.44\n",
      "The r-value is: -0.035943704923024004\n"
     ]
    },
    {
     "data": {
      "image/png": "[encoded data removed]",
      "text/plain": [
       "<Figure size 432x288 with 1 Axes>"
      ]
     },
     "metadata": {
      "needs_background": "light"
     },
     "output_type": "display_data"
    },
    {
     "data": {
      "text/plain": [
       "<Figure size 432x288 with 0 Axes>"
      ]
     },
     "metadata": {},
     "output_type": "display_data"
    }
   ],
   "source": [
    "# Perform a linear regression on humidity vs. latitude\n",
    "x_values = northern_df[\"Lat\"]\n",
    "y_values = northern_df[\"Humidity\"]\n",
    "(slope, intercept, rvalue, pvalue, stderr) = stats.linregress(x_values, y_values)\n",
    "\n",
    "\n",
    "# Get regression values\n",
    "regress_values = x_values * slope + intercept\n",
    "#print(regress_values)\n",
    "\n",
    "# Create line equation string\n",
    "line_eq = \"y = \" + str(round(slope,2)) + \"x +\" + str(round(intercept,2))\n",
    "print(line_eq)\n",
    "\n",
    "# Create Plot\n",
    "plt.scatter(x_values,y_values)\n",
    "plt.plot(x_values,regress_values,\"r-\")\n",
    "\n",
    "# Label plot and annotate the line equation\n",
    "plt.xlabel('Latitude')\n",
    "plt.ylabel('Humidity')\n",
    "plt.annotate(line_eq,(20,15),fontsize=15,color=\"red\")\n",
    "plt.grid(linestyle='-', linewidth = 2)\n",
    "\n",
    "# Print r value\n",
    "print(f\"The r-value is: {rvalue}\")\n",
    "\n",
    "# Show plot\n",
    "plt.show()\n",
    "plt.savefig(\"/Users/anishachaudhari/data_science/Challenges/API challenge/python-api-challenge/output_files/humidity_lat_north.png\")"
   ]
  },
  {
   "cell_type": "markdown",
   "metadata": {},
   "source": [
    "####  Southern Hemisphere - Humidity (%) vs. Latitude Linear Regression"
   ]
  },
  {
   "cell_type": "markdown",
   "metadata": {},
   "source": [
    "When analyzing humidity levels and latitude using data from the southern hemisphere we obtain an r-value of -0.18,\n",
    "which is close to zero and therefore indicating there is a weak negative correlation between those variables. \n",
    "As we increase our latitude in the southern hemisphere the data shows it does not effect humidity levels."
   ]
  },
  {
   "cell_type": "code",
   "execution_count": 16,
   "metadata": {},
   "outputs": [
    {
     "name": "stdout",
     "output_type": "stream",
     "text": [
      "y = -0.02x +74.12\n",
      "The r-value is: -0.014739989655065592\n"
     ]
    },
    {
     "data": {
      "image/png": "[encoded data removed]",
      "text/plain": [
       "<Figure size 432x288 with 1 Axes>"
      ]
     },
     "metadata": {
      "needs_background": "light"
     },
     "output_type": "display_data"
    },
    {
     "data": {
      "text/plain": [
       "<Figure size 432x288 with 0 Axes>"
      ]
     },
     "metadata": {},
     "output_type": "display_data"
    }
   ],
   "source": [
    "# Perform a linear regression on humidity vs. latitude\n",
    "x_values = southern_df[\"Lat\"]\n",
    "y_values = southern_df[\"Humidity\"]\n",
    "(slope, intercept, rvalue, pvalue, stderr) = stats.linregress(x_values, y_values)\n",
    "\n",
    "\n",
    "# Get regression values\n",
    "regress_values = x_values * slope + intercept\n",
    "#print(regress_values)\n",
    "\n",
    "# Create line equation string\n",
    "line_eq = \"y = \" + str(round(slope,2)) + \"x +\" + str(round(intercept,2))\n",
    "print(line_eq)\n",
    "\n",
    "# Create Plot\n",
    "plt.scatter(x_values,y_values)\n",
    "plt.plot(x_values,regress_values,\"r-\")\n",
    "\n",
    "# Label plot and annotate the line equation\n",
    "plt.xlabel('Latitude')\n",
    "plt.ylabel('Humidity')\n",
    "plt.annotate(line_eq,(20,15),fontsize=15,color=\"red\")\n",
    "plt.grid(linestyle='-', linewidth = 2)\n",
    "\n",
    "# Print r value\n",
    "print(f\"The r-value is: {rvalue}\")\n",
    "\n",
    "# Show plot\n",
    "plt.show()\n",
    "plt.savefig(\"/Users/anishachaudhari/data_science/Challenges/API challenge/python-api-challenge/output_files/humidity_lat_south.png\")"
   ]
  },
  {
   "cell_type": "markdown",
   "metadata": {},
   "source": [
    "####  Northern Hemisphere - Cloudiness (%) vs. Latitude Linear Regression"
   ]
  },
  {
   "cell_type": "markdown",
   "metadata": {},
   "source": [
    "The r-value obtained for data from the northern hemisphere is very close to zero indicating there is no correlation \n",
    "with latitude increases and cloudiness.  The r-value was a mere .0002."
   ]
  },
  {
   "cell_type": "code",
   "execution_count": 17,
   "metadata": {},
   "outputs": [
    {
     "name": "stdout",
     "output_type": "stream",
     "text": [
      "y = 0.01x +58.85\n",
      "The r-value is: 0.005278122622604962\n"
     ]
    },
    {
     "data": {
      "image/png": "[encoded data removed]",
      "text/plain": [
       "<Figure size 432x288 with 1 Axes>"
      ]
     },
     "metadata": {
      "needs_background": "light"
     },
     "output_type": "display_data"
    },
    {
     "data": {
      "text/plain": [
       "<Figure size 432x288 with 0 Axes>"
      ]
     },
     "metadata": {},
     "output_type": "display_data"
    }
   ],
   "source": [
    "# Perform a linear regression on humidity vs. latitude\n",
    "x_values = northern_df[\"Lat\"]\n",
    "y_values = northern_df[\"Cloudiness\"]\n",
    "(slope, intercept, rvalue, pvalue, stderr) = stats.linregress(x_values, y_values)\n",
    "\n",
    "\n",
    "# Get regression values\n",
    "regress_values = x_values * slope + intercept\n",
    "#print(regress_values)\n",
    "\n",
    "# Create line equation string\n",
    "line_eq = \"y = \" + str(round(slope,2)) + \"x +\" + str(round(intercept,2))\n",
    "print(line_eq)\n",
    "\n",
    "# Create Plot\n",
    "plt.scatter(x_values,y_values)\n",
    "plt.plot(x_values,regress_values,\"r-\")\n",
    "\n",
    "# Label plot and annotate the line equation\n",
    "plt.xlabel('Latitude')\n",
    "plt.ylabel('Cloudiness')\n",
    "plt.annotate(line_eq,(20,15),fontsize=15,color=\"red\")\n",
    "plt.grid(linestyle='-', linewidth = 2)\n",
    "\n",
    "# Print r value\n",
    "print(f\"The r-value is: {rvalue}\")\n",
    "\n",
    "# Show plot\n",
    "plt.show()\n",
    "plt.savefig(\"/Users/anishachaudhari/data_science/Challenges/API challenge/python-api-challenge/output_files/cloudiness_lat_north.png\")"
   ]
  },
  {
   "cell_type": "markdown",
   "metadata": {},
   "source": [
    "####  Southern Hemisphere - Cloudiness (%) vs. Latitude Linear Regression"
   ]
  },
  {
   "cell_type": "markdown",
   "metadata": {},
   "source": [
    "The r-value obtained for data from the southern hemisphere is close to zero indicating there is weak negative\n",
    "correlation with latitude increases and cloudiness.  The r-value is -0.131."
   ]
  },
  {
   "cell_type": "code",
   "execution_count": 18,
   "metadata": {},
   "outputs": [
    {
     "name": "stdout",
     "output_type": "stream",
     "text": [
      "y = 0.25x +54.3\n",
      "The r-value is: 0.09198434677859359\n"
     ]
    },
    {
     "data": {
      "image/png": "[encoded data removed]",
      "text/plain": [
       "<Figure size 432x288 with 1 Axes>"
      ]
     },
     "metadata": {
      "needs_background": "light"
     },
     "output_type": "display_data"
    },
    {
     "data": {
      "text/plain": [
       "<Figure size 432x288 with 0 Axes>"
      ]
     },
     "metadata": {},
     "output_type": "display_data"
    }
   ],
   "source": [
    "# Perform a linear regression on humidity vs. latitude\n",
    "x_values = southern_df[\"Lat\"]\n",
    "y_values = southern_df[\"Cloudiness\"]\n",
    "(slope, intercept, rvalue, pvalue, stderr) = stats.linregress(x_values, y_values)\n",
    "\n",
    "\n",
    "# Get regression values\n",
    "regress_values = x_values * slope + intercept\n",
    "#print(regress_values)\n",
    "\n",
    "# Create line equation string\n",
    "line_eq = \"y = \" + str(round(slope,2)) + \"x +\" + str(round(intercept,2))\n",
    "print(line_eq)\n",
    "\n",
    "# Create Plot\n",
    "plt.scatter(x_values,y_values)\n",
    "plt.plot(x_values,regress_values,\"r-\")\n",
    "\n",
    "# Label plot and annotate the line equation\n",
    "plt.xlabel('Latitude')\n",
    "plt.ylabel('Cloudiness')\n",
    "plt.annotate(line_eq,(20,15),fontsize=15,color=\"red\")\n",
    "plt.grid(linestyle='-', linewidth = 2)\n",
    "\n",
    "# Print r value\n",
    "print(f\"The r-value is: {rvalue}\")\n",
    "\n",
    "# Show plot\n",
    "plt.show()\n",
    "plt.savefig(\"/Users/anishachaudhari/data_science/Challenges/API challenge/python-api-challenge/output_files/cloudiness_lat_north.png\")"
   ]
  },
  {
   "cell_type": "markdown",
   "metadata": {},
   "source": [
    "####  Northern Hemisphere - Wind Speed (mph) vs. Latitude Linear Regression"
   ]
  },
  {
   "cell_type": "markdown",
   "metadata": {},
   "source": [
    "When analyzing wind speed and latitude using data from the northern hemisphere we obtain an r-value of 0.050,\n",
    "which is close to zero and therefore indicating there is no correlation between those variables. \n",
    "As we increase our latitude in the northern hemisphere the data shows it does not effect wind speeds."
   ]
  },
  {
   "cell_type": "code",
   "execution_count": 19,
   "metadata": {},
   "outputs": [
    {
     "name": "stdout",
     "output_type": "stream",
     "text": [
      "y = 0.02x +6.43\n",
      "The r-value is: 0.08732287340653927\n"
     ]
    },
    {
     "data": {
      "image/png": "[encoded data removed]",
      "text/plain": [
       "<Figure size 432x288 with 1 Axes>"
      ]
     },
     "metadata": {
      "needs_background": "light"
     },
     "output_type": "display_data"
    },
    {
     "data": {
      "text/plain": [
       "<Figure size 432x288 with 0 Axes>"
      ]
     },
     "metadata": {},
     "output_type": "display_data"
    }
   ],
   "source": [
    "# Perform a linear regression on humidity vs. latitude\n",
    "x_values = northern_df[\"Lat\"]\n",
    "y_values = northern_df[\"Wind Speed\"]\n",
    "(slope, intercept, rvalue, pvalue, stderr) = stats.linregress(x_values, y_values)\n",
    "\n",
    "\n",
    "# Get regression values\n",
    "regress_values = x_values * slope + intercept\n",
    "#print(regress_values)\n",
    "\n",
    "# Create line equation string\n",
    "line_eq = \"y = \" + str(round(slope,2)) + \"x +\" + str(round(intercept,2))\n",
    "print(line_eq)\n",
    "\n",
    "# Create Plot\n",
    "plt.scatter(x_values,y_values)\n",
    "plt.plot(x_values,regress_values,\"r-\")\n",
    "\n",
    "# Label plot and annotate the line equation\n",
    "plt.xlabel('Latitude')\n",
    "plt.ylabel('Wind Speed')\n",
    "plt.annotate(line_eq,(20,15),fontsize=15,color=\"red\")\n",
    "plt.grid(linestyle='-', linewidth = 2)\n",
    "\n",
    "# Print r value\n",
    "print(f\"The r-value is: {rvalue}\")\n",
    "\n",
    "# Show plot\n",
    "plt.show()\n",
    "plt.savefig(\"/Users/anishachaudhari/data_science/Challenges/API challenge/python-api-challenge/output_files/windspeed_lat_north.png\")"
   ]
  },
  {
   "cell_type": "markdown",
   "metadata": {},
   "source": [
    "####  Southern Hemisphere - Wind Speed (mph) vs. Latitude Linear Regression"
   ]
  },
  {
   "cell_type": "markdown",
   "metadata": {},
   "source": [
    "When analyzing wind speed and latitude using data from the southern hemisphere we obtain an r-value of -0.098,\n",
    "which is close to zero and therefore indicating there is a weak negative correlation between those variables. \n",
    "As we increase our latitude in the southern hemisphere the data shows it does not effect wind speeds."
   ]
  },
  {
   "cell_type": "code",
   "execution_count": 20,
   "metadata": {},
   "outputs": [
    {
     "name": "stdout",
     "output_type": "stream",
     "text": [
      "y = -0.07x +7.59\n",
      "The r-value is: -0.15723663695819837\n"
     ]
    },
    {
     "data": {
      "image/png": "[encoded data removed]",
      "text/plain": [
       "<Figure size 432x288 with 1 Axes>"
      ]
     },
     "metadata": {
      "needs_background": "light"
     },
     "output_type": "display_data"
    },
    {
     "data": {
      "text/plain": [
       "<Figure size 432x288 with 0 Axes>"
      ]
     },
     "metadata": {},
     "output_type": "display_data"
    }
   ],
   "source": [
    "# Perform a linear regression on humidity vs. latitude\n",
    "x_values = southern_df[\"Lat\"]\n",
    "y_values = southern_df[\"Wind Speed\"]\n",
    "(slope, intercept, rvalue, pvalue, stderr) = stats.linregress(x_values, y_values)\n",
    "\n",
    "\n",
    "# Get regression values\n",
    "regress_values = x_values * slope + intercept\n",
    "#print(regress_values)\n",
    "\n",
    "# Create line equation string\n",
    "line_eq = \"y = \" + str(round(slope,2)) + \"x +\" + str(round(intercept,2))\n",
    "print(line_eq)\n",
    "\n",
    "# Create Plot\n",
    "plt.scatter(x_values,y_values)\n",
    "plt.plot(x_values,regress_values,\"r-\")\n",
    "\n",
    "# Label plot and annotate the line equation\n",
    "plt.xlabel('Latitude')\n",
    "plt.ylabel('Wind Speed')\n",
    "plt.annotate(line_eq,(20,15),fontsize=15,color=\"red\")\n",
    "plt.grid(linestyle='-', linewidth = 2)\n",
    "\n",
    "# Print r value\n",
    "print(f\"The r-value is: {rvalue}\")\n",
    "\n",
    "# Show plot\n",
    "plt.show()\n",
    "plt.savefig(\"/Users/anishachaudhari/data_science/Challenges/API challenge/python-api-challenge/output_files/windspeed_lat_south.png\")"
   ]
  }
 ],
 "metadata": {
  "anaconda-cloud": {},
  "kernel_info": {
   "name": "python3"
  },
  "kernelspec": {
   "display_name": "Python 3",
   "language": "python",
   "name": "python3"
  },
  "language_info": {
   "codemirror_mode": {
    "name": "ipython",
    "version": 3
   },
   "file_extension": ".py",
   "mimetype": "text/x-python",
   "name": "python",
   "nbconvert_exporter": "python",
   "pygments_lexer": "ipython3",
   "version": "3.9.12"
  },
  "latex_envs": {
   "LaTeX_envs_menu_present": true,
   "autoclose": false,
   "autocomplete": true,
   "bibliofile": "biblio.bib",
   "cite_by": "apalike",
   "current_citInitial": 1,
   "eqLabelWithNumbers": true,
   "eqNumInitial": 1,
   "hotkeys": {
    "equation": "Ctrl-E",
    "itemize": "Ctrl-I"
   },
   "labels_anchors": false,
   "latex_user_defs": false,
   "report_style_numbering": false,
   "user_envs_cfg": false
  },
  "nteract": {
   "version": "0.12.3"
  }
 },
 "nbformat": 4,
 "nbformat_minor": 2
}
